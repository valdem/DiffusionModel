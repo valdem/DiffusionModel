{
  "nbformat": 4,
  "nbformat_minor": 0,
  "metadata": {
    "colab": {
      "provenance": [],
      "gpuType": "T4"
    },
    "kernelspec": {
      "name": "python3",
      "display_name": "Python 3"
    },
    "language_info": {
      "name": "python"
    },
    "accelerator": "GPU"
  },
  "cells": [
    {
      "cell_type": "markdown",
      "source": [
        "# Формулирование темы\n",
        "\n",
        "Цель - создание модели, которая переводит набор ключевых слов в текст с использованием диффузионного процесса."
      ],
      "metadata": {
        "id": "2SmezKN_2qwp"
      }
    },
    {
      "cell_type": "code",
      "source": [
        "!pip install torch sentence-transformers"
      ],
      "metadata": {
        "id": "zOydqjtc21eH",
        "colab": {
          "base_uri": "https://localhost:8080/"
        },
        "outputId": "4c00d463-1f46-40bf-fbbf-f780d7607f76"
      },
      "execution_count": 1,
      "outputs": [
        {
          "output_type": "stream",
          "name": "stdout",
          "text": [
            "Requirement already satisfied: torch in /usr/local/lib/python3.11/dist-packages (2.6.0+cu124)\n",
            "Requirement already satisfied: sentence-transformers in /usr/local/lib/python3.11/dist-packages (3.4.1)\n",
            "Requirement already satisfied: filelock in /usr/local/lib/python3.11/dist-packages (from torch) (3.18.0)\n",
            "Requirement already satisfied: typing-extensions>=4.10.0 in /usr/local/lib/python3.11/dist-packages (from torch) (4.13.2)\n",
            "Requirement already satisfied: networkx in /usr/local/lib/python3.11/dist-packages (from torch) (3.4.2)\n",
            "Requirement already satisfied: jinja2 in /usr/local/lib/python3.11/dist-packages (from torch) (3.1.6)\n",
            "Requirement already satisfied: fsspec in /usr/local/lib/python3.11/dist-packages (from torch) (2025.3.2)\n",
            "Requirement already satisfied: nvidia-cuda-nvrtc-cu12==12.4.127 in /usr/local/lib/python3.11/dist-packages (from torch) (12.4.127)\n",
            "Requirement already satisfied: nvidia-cuda-runtime-cu12==12.4.127 in /usr/local/lib/python3.11/dist-packages (from torch) (12.4.127)\n",
            "Requirement already satisfied: nvidia-cuda-cupti-cu12==12.4.127 in /usr/local/lib/python3.11/dist-packages (from torch) (12.4.127)\n",
            "Requirement already satisfied: nvidia-cudnn-cu12==9.1.0.70 in /usr/local/lib/python3.11/dist-packages (from torch) (9.1.0.70)\n",
            "Requirement already satisfied: nvidia-cublas-cu12==12.4.5.8 in /usr/local/lib/python3.11/dist-packages (from torch) (12.4.5.8)\n",
            "Requirement already satisfied: nvidia-cufft-cu12==11.2.1.3 in /usr/local/lib/python3.11/dist-packages (from torch) (11.2.1.3)\n",
            "Requirement already satisfied: nvidia-curand-cu12==10.3.5.147 in /usr/local/lib/python3.11/dist-packages (from torch) (10.3.5.147)\n",
            "Requirement already satisfied: nvidia-cusolver-cu12==11.6.1.9 in /usr/local/lib/python3.11/dist-packages (from torch) (11.6.1.9)\n",
            "Requirement already satisfied: nvidia-cusparse-cu12==12.3.1.170 in /usr/local/lib/python3.11/dist-packages (from torch) (12.3.1.170)\n",
            "Requirement already satisfied: nvidia-cusparselt-cu12==0.6.2 in /usr/local/lib/python3.11/dist-packages (from torch) (0.6.2)\n",
            "Requirement already satisfied: nvidia-nccl-cu12==2.21.5 in /usr/local/lib/python3.11/dist-packages (from torch) (2.21.5)\n",
            "Requirement already satisfied: nvidia-nvtx-cu12==12.4.127 in /usr/local/lib/python3.11/dist-packages (from torch) (12.4.127)\n",
            "Requirement already satisfied: nvidia-nvjitlink-cu12==12.4.127 in /usr/local/lib/python3.11/dist-packages (from torch) (12.4.127)\n",
            "Requirement already satisfied: triton==3.2.0 in /usr/local/lib/python3.11/dist-packages (from torch) (3.2.0)\n",
            "Requirement already satisfied: sympy==1.13.1 in /usr/local/lib/python3.11/dist-packages (from torch) (1.13.1)\n",
            "Requirement already satisfied: mpmath<1.4,>=1.1.0 in /usr/local/lib/python3.11/dist-packages (from sympy==1.13.1->torch) (1.3.0)\n",
            "Requirement already satisfied: transformers<5.0.0,>=4.41.0 in /usr/local/lib/python3.11/dist-packages (from sentence-transformers) (4.51.3)\n",
            "Requirement already satisfied: tqdm in /usr/local/lib/python3.11/dist-packages (from sentence-transformers) (4.67.1)\n",
            "Requirement already satisfied: scikit-learn in /usr/local/lib/python3.11/dist-packages (from sentence-transformers) (1.6.1)\n",
            "Requirement already satisfied: scipy in /usr/local/lib/python3.11/dist-packages (from sentence-transformers) (1.15.2)\n",
            "Requirement already satisfied: huggingface-hub>=0.20.0 in /usr/local/lib/python3.11/dist-packages (from sentence-transformers) (0.30.2)\n",
            "Requirement already satisfied: Pillow in /usr/local/lib/python3.11/dist-packages (from sentence-transformers) (11.2.1)\n",
            "Requirement already satisfied: packaging>=20.9 in /usr/local/lib/python3.11/dist-packages (from huggingface-hub>=0.20.0->sentence-transformers) (24.2)\n",
            "Requirement already satisfied: pyyaml>=5.1 in /usr/local/lib/python3.11/dist-packages (from huggingface-hub>=0.20.0->sentence-transformers) (6.0.2)\n",
            "Requirement already satisfied: requests in /usr/local/lib/python3.11/dist-packages (from huggingface-hub>=0.20.0->sentence-transformers) (2.32.3)\n",
            "Requirement already satisfied: numpy>=1.17 in /usr/local/lib/python3.11/dist-packages (from transformers<5.0.0,>=4.41.0->sentence-transformers) (2.0.2)\n",
            "Requirement already satisfied: regex!=2019.12.17 in /usr/local/lib/python3.11/dist-packages (from transformers<5.0.0,>=4.41.0->sentence-transformers) (2024.11.6)\n",
            "Requirement already satisfied: tokenizers<0.22,>=0.21 in /usr/local/lib/python3.11/dist-packages (from transformers<5.0.0,>=4.41.0->sentence-transformers) (0.21.1)\n",
            "Requirement already satisfied: safetensors>=0.4.3 in /usr/local/lib/python3.11/dist-packages (from transformers<5.0.0,>=4.41.0->sentence-transformers) (0.5.3)\n",
            "Requirement already satisfied: MarkupSafe>=2.0 in /usr/local/lib/python3.11/dist-packages (from jinja2->torch) (3.0.2)\n",
            "Requirement already satisfied: joblib>=1.2.0 in /usr/local/lib/python3.11/dist-packages (from scikit-learn->sentence-transformers) (1.4.2)\n",
            "Requirement already satisfied: threadpoolctl>=3.1.0 in /usr/local/lib/python3.11/dist-packages (from scikit-learn->sentence-transformers) (3.6.0)\n",
            "Requirement already satisfied: charset-normalizer<4,>=2 in /usr/local/lib/python3.11/dist-packages (from requests->huggingface-hub>=0.20.0->sentence-transformers) (3.4.1)\n",
            "Requirement already satisfied: idna<4,>=2.5 in /usr/local/lib/python3.11/dist-packages (from requests->huggingface-hub>=0.20.0->sentence-transformers) (3.10)\n",
            "Requirement already satisfied: urllib3<3,>=1.21.1 in /usr/local/lib/python3.11/dist-packages (from requests->huggingface-hub>=0.20.0->sentence-transformers) (2.4.0)\n",
            "Requirement already satisfied: certifi>=2017.4.17 in /usr/local/lib/python3.11/dist-packages (from requests->huggingface-hub>=0.20.0->sentence-transformers) (2025.4.26)\n"
          ]
        }
      ]
    },
    {
      "cell_type": "code",
      "source": [
        "# импорт библиотек\n",
        "import torch\n",
        "import torch.nn as nn\n",
        "import torch.optim as optim\n",
        "import random\n",
        "from sentence_transformers import SentenceTransformer\n",
        "from collections import defaultdict"
      ],
      "metadata": {
        "id": "5RfWYgjm24x-"
      },
      "execution_count": 2,
      "outputs": []
    },
    {
      "cell_type": "code",
      "source": [
        "# добавление логирования\n",
        "import logging\n",
        "logging.basicConfig(level=logging.INFO, format='%(asctime)s - %(levelname)s - %(message)s')"
      ],
      "metadata": {
        "id": "NUTsxQ0IQwJF"
      },
      "execution_count": 3,
      "outputs": []
    },
    {
      "cell_type": "code",
      "source": [
        "# Определяем устройство\n",
        "device = torch.device(\"cuda\" if torch.cuda.is_available() else \"cpu\")\n",
        "logging.info(f\"Используемое устройство: {device}\")"
      ],
      "metadata": {
        "id": "I2Ns_TDbK8hU"
      },
      "execution_count": 4,
      "outputs": []
    },
    {
      "cell_type": "code",
      "source": [
        "data_samples = [\n",
        "    (\"сквозь, дождя, капли, заброшенного\", \"Сквозь густой туман ночи едва угадывался силуэт заброшенного дома. Капли дождя тихо стучали по крыше, давно лишённой уюта и тепла.\"),\n",
        "    (\"хвои, первыми, оживал, утренний\", \"Утренний лес оживал под первыми лучами солнца, свежий воздух был наполнен пением птиц и запахом хвои.\"),\n",
        "    (\"витрин, улицам, город, светом\", \"Город спал, освещённый лишь редкими фонарями и светом витрин. По пустым улицам медленно текла осенняя морось.\"),\n",
        "    (\"озера, стояла, покачиваясь, спокойствием\", \"На берегу озера стояла старая лодка, слегка покачиваясь на волнах. Всё вокруг дышало спокойствием и тишиной.\"),\n",
        "    (\"между, цветами, пряталась, шевелил\", \"Залитая солнцем поляна пряталась в глубине леса. Тёплый ветер шевелил высокую траву и гонял бабочек между цветами.\"),\n",
        "    (\"пахло, раздался, собаки, где-то\", \"Переулок был тёмным и узким, от стен пахло сыростью и пылью. Где-то вдалеке раздался лай собаки.\"),\n",
        "    (\"бурлящей, заходящего, нависала, скала\", \"Скала нависала над бурлящей рекой. Мокрые камни блестели в лучах заходящего солнца.\"),\n",
        "    (\"приглушая, тепле, труб, домов\", \"Снег ложился мягким покрывалом на крыши домов, приглушая все звуки. Дым поднимался из труб, напоминая о тепле внутри.\"),\n",
        "    (\"горизонта, тянулось, колыхались, самого\", \"Огромное поле тянулось до самого горизонта, волнами колыхались золотые колосья пшеницы.\"),\n",
        "    (\"ладана, насыщен, пола, ароматом\", \"В полумраке храма мерцали свечи, отражаясь в каменных плитах пола. Воздух был насыщен ароматом ладана.\"),\n",
        "    (\"песчаный, чайки, касались, уходил\", \"Песчаный пляж уходил вдаль, волны нежно касались берега, а чайки кружили в небе.\"),\n",
        "    (\"листьями, запахом, свежестью, листвы\", \"Осенняя аллея была усыпана листьями, воздух пропитан свежестью и запахом прелой листвы.\"),\n",
        "    (\"вокзал, тишины, редкие, полон\", \"Старый вокзал был полон тишины, лишь редкие шаги эхом отражались от стен.\"),\n",
        "    (\"тропа, ветерок, терялась, деревьев\", \"Лесная тропа терялась в тени высоких деревьев, ветерок шелестел в кроне.\"),\n",
        "    (\"облаках, скрывались, тумане, просматривались\", \"Горы скрывались в облаках, снежные вершины едва просматривались в тумане.\"),\n",
        "    (\"сверчков, собак, редкий, звуки\", \"Маленькая деревня у реки засыпала под звуки сверчков и редкий лай собак.\"),\n",
        "    (\"запахом, бумаги, лампы, старая\", \"Старая библиотека была пропитана запахом пыли и бумаги, лампы мягко светили с потолка.\"),\n",
        "    (\"медленно, озарял, рассвет, вершины\", \"Рассвет медленно озарял вершины холмов, капли росы блестели на траве.\"),\n",
        "    (\"переезд, легкий, только, рельсы\", \"Переезд через рельсы был пуст, только легкий ветер гнал пыль по шпалам.\"),\n",
        "    (\"вода, бурной, шумела, берега\", \"Мост соединял два берега над бурной рекой, под ним шумела вода.\"),\n",
        "    (\"пространство, смеха, звуки, площади\", \"На площади собирались люди, звуки музыки и смеха наполняли пространство.\"),\n",
        "    (\"трава, цветами, светом, пчёлы\", \"Сад заливался светом, пчёлы гудели над цветами, а трава мягко пружинила под ногами.\"),\n",
        "    (\"огнями, усыпанный, город, вечерний\", \"Окно в мансарде выходило на вечерний город, усыпанный огнями.\"),\n",
        "    (\"поезда, приближающегося, туннеле, раздавался\", \"В туннеле эхом раздавался шум приближающегося поезда.\"),\n",
        "    (\"камина, кресла, комната, огнём\", \"Комната была освещена огнём камина, вокруг стояли кресла и книги.\"),\n",
        "    (\"прятались, летний, застал, дубом\", \"Летний дождь застал их в поле, и они прятались под старым дубом.\"),\n",
        "    (\"блестело, крики, закате, озеро\", \"Озеро блестело на закате, крики чаек раздавались вдали.\"),\n",
        "    (\"воздух, пуст, чистый, покрыты\", \"Парк был пуст, лавки покрыты инеем, воздух холодный и чистый.\"),\n",
        "    (\"ветру, причале, качались, лодки\", \"На причале качались лодки, верёвки тихо скрипели на ветру.\"),\n",
        "    (\"праздник, напоминало, освещена, вокруг\", \"Улица была освещена гирляндами, всё вокруг напоминало праздник.\")\n",
        "] * 100  # Умножаем для получения ~3000 примеров"
      ],
      "metadata": {
        "id": "A3GTDiXa3iYg"
      },
      "execution_count": 5,
      "outputs": []
    },
    {
      "cell_type": "code",
      "source": [
        "# Разделение на тренировочную и валидационную выборки\n",
        "train_data = data_samples[:2600]\n",
        "val_data = data_samples[2600:]\n",
        "logging.info(f\"Размер тренировочного набора: {len(train_data)}\")\n",
        "logging.info(f\"Размер валидационного набора: {len(val_data)}\")"
      ],
      "metadata": {
        "id": "1d7qOsIWLBCh"
      },
      "execution_count": 6,
      "outputs": []
    },
    {
      "cell_type": "code",
      "source": [
        "sent_transformer = SentenceTransformer('all-MiniLM-L6-v2').to(device)"
      ],
      "metadata": {
        "id": "hLyaTsk330J0",
        "colab": {
          "base_uri": "https://localhost:8080/"
        },
        "outputId": "f92d0810-f3ab-4775-ca64-07e391673a03"
      },
      "execution_count": 7,
      "outputs": [
        {
          "output_type": "stream",
          "name": "stderr",
          "text": [
            "/usr/local/lib/python3.11/dist-packages/huggingface_hub/utils/_auth.py:94: UserWarning: \n",
            "The secret `HF_TOKEN` does not exist in your Colab secrets.\n",
            "To authenticate with the Hugging Face Hub, create a token in your settings tab (https://huggingface.co/settings/tokens), set it as secret in your Google Colab and restart your session.\n",
            "You will be able to reuse this secret in all of your notebooks.\n",
            "Please note that authentication is recommended but still optional to access public models or datasets.\n",
            "  warnings.warn(\n"
          ]
        }
      ]
    },
    {
      "cell_type": "code",
      "source": [
        "# Гиперпараметры диффузии\n",
        "EMB_DIM = 384      # Размер эмбеддингов SentenceTransformer\n",
        "HID_DIM = 512      # Скрытый размер\n",
        "NUM_STEPS = 100     # Количество шагов диффузии\n",
        "BATCH_SIZE = 64    # Размер батча\n",
        "EPOCHS = 50       # Количество эпох\n",
        "\n",
        "# Расписание шума\n",
        "beta_start, beta_end = 0.0001, 0.02\n",
        "betas = torch.linspace(beta_start, beta_end, NUM_STEPS).to(device)\n",
        "alphas = 1.0 - betas\n",
        "alphas_cumprod = torch.cumprod(alphas, dim=0).to(device)"
      ],
      "metadata": {
        "id": "HvDCOyFI4Lnm"
      },
      "execution_count": 8,
      "outputs": []
    },
    {
      "cell_type": "code",
      "source": [
        "class SentenceDiffusionModel(nn.Module):\n",
        "    def __init__(self, emb_dim, hid_dim, num_steps):\n",
        "        super().__init__()\n",
        "        self.step_embedding = nn.Embedding(num_steps, emb_dim)  # Эмбеддинги шага\n",
        "        self.denoiser = nn.Sequential(\n",
        "            nn.Linear(emb_dim * 3, hid_dim),  # noisy + keywords + step\n",
        "            nn.ReLU(),\n",
        "            nn.Linear(hid_dim, hid_dim),\n",
        "            nn.ReLU(),\n",
        "            nn.Linear(hid_dim, emb_dim)\n",
        "        )\n",
        "\n",
        "    def forward(self, noisy_emb, keywords_emb, t):\n",
        "        step_emb = self.step_embedding(t)\n",
        "        combined = torch.cat([noisy_emb, keywords_emb, step_emb], dim=-1)\n",
        "        return self.denoiser(combined)\n",
        "\n",
        "# Инициализация модели\n",
        "model = SentenceDiffusionModel(EMB_DIM, HID_DIM, NUM_STEPS).to(device)"
      ],
      "metadata": {
        "id": "-lMKul8Z4aHB"
      },
      "execution_count": 9,
      "outputs": []
    },
    {
      "cell_type": "code",
      "source": [
        "# функция зашумления\n",
        "def add_noise(emb, t):\n",
        "    alpha_t = alphas_cumprod[t].view(-1, 1)\n",
        "    noise = torch.randn_like(emb)\n",
        "    return alpha_t.sqrt() * emb + (1 - alpha_t).sqrt() * noise, noise"
      ],
      "metadata": {
        "id": "H0NUNUYE4rXi"
      },
      "execution_count": 10,
      "outputs": []
    },
    {
      "cell_type": "code",
      "source": [
        "# функция обучения одной эпохи\n",
        "def train_one_epoch(data, batch_size, num_steps):\n",
        "    model.train()\n",
        "    total_loss = 0\n",
        "    criterion = nn.MSELoss()\n",
        "    optimizer = optim.Adam(model.parameters(), lr=3e-4)\n",
        "\n",
        "    for i in range(0, len(data), batch_size):\n",
        "        batch = data[i:i+batch_size]\n",
        "        keywords_sents, text_sents = zip(*batch)\n",
        "\n",
        "        # Преобразуем предложения в эмбеддинги\n",
        "        keywords_emb = sent_transformer.encode(keywords_sents, convert_to_tensor=True).to(device)\n",
        "        text_emb = sent_transformer.encode(text_sents, convert_to_tensor=True).to(device)\n",
        "\n",
        "        optimizer.zero_grad()\n",
        "\n",
        "        # Добавляем шум\n",
        "        t = torch.randint(0, num_steps, (keywords_emb.size(0),), device=device)\n",
        "        noisy_emb, noise = add_noise(text_emb, t)\n",
        "\n",
        "        # Предсказываем шум\n",
        "        pred_noise = model(noisy_emb, keywords_emb, t)\n",
        "        loss = criterion(pred_noise, noise)\n",
        "\n",
        "        loss.backward()\n",
        "        optimizer.step()\n",
        "        total_loss += loss.item()\n",
        "\n",
        "    return total_loss / (len(data) // batch_size)"
      ],
      "metadata": {
        "id": "yx3p8c_s45u5"
      },
      "execution_count": 11,
      "outputs": []
    },
    {
      "cell_type": "code",
      "source": [
        "# Цикл обучения\n",
        "for epoch in range(EPOCHS):\n",
        "    train_loss = train_one_epoch(train_data, BATCH_SIZE, NUM_STEPS)\n",
        "    logging.info(f\"Epoch {epoch+1}, Train Loss = {train_loss:.4f}\")"
      ],
      "metadata": {
        "id": "L5tscZw6LQWD"
      },
      "execution_count": 12,
      "outputs": []
    },
    {
      "cell_type": "code",
      "source": [
        "# функция генерации\n",
        "def generate_text(model, keywords_sent, num_steps, ref_text_sents):\n",
        "    model.eval()\n",
        "    with torch.no_grad():\n",
        "        keywords_emb = sent_transformer.encode([keywords_sent], convert_to_tensor=True).to(device)\n",
        "        x_t = keywords_emb.clone()\n",
        "\n",
        "        # Полное зашумление\n",
        "        for t in range(num_steps):\n",
        "            x_t, _ = add_noise(x_t, torch.tensor([t], device=device))\n",
        "\n",
        "        # Расшумление\n",
        "        for t in range(num_steps-1, -1, -1):\n",
        "            t_tensor = torch.tensor([t], device=device)\n",
        "            pred_noise = model(x_t, keywords_emb, t_tensor)\n",
        "            alpha_t = alphas[t]\n",
        "            alpha_t_cumprod = alphas_cumprod[t]\n",
        "            sigma_t = ((1 - alpha_t_cumprod) / (1 - alpha_t) * (1 - alpha_t)).sqrt()\n",
        "            x_t = (x_t - (1 - alpha_t) / (1 - alpha_t_cumprod).sqrt() * pred_noise) / alpha_t.sqrt()\n",
        "            if t > 0:\n",
        "                x_t += sigma_t * torch.randn_like(x_t)\n",
        "\n",
        "        # Декодирование: находим ближайшее предложение\n",
        "        ref_embs = sent_transformer.encode(ref_text_sents, convert_to_tensor=True).to(device)\n",
        "        distances = torch.cdist(x_t, ref_embs)\n",
        "        closest_idx = torch.argmin(distances)\n",
        "        return ref_text_sents[closest_idx]"
      ],
      "metadata": {
        "id": "jdNdgn2U5FXK"
      },
      "execution_count": 13,
      "outputs": []
    },
    {
      "cell_type": "code",
      "source": [
        "# Тестирование\n",
        "keywords_input = \"тропа, ветерок, лес, деревьев\"\n",
        "text_sents = [text for _, text in data_samples]\n",
        "text_output = generate_text(model, keywords_input, NUM_STEPS, text_sents)\n",
        "print(f\"Ключевые слова: {keywords_input}\")\n",
        "print(f\"Текст: {text_output}\")"
      ],
      "metadata": {
        "colab": {
          "base_uri": "https://localhost:8080/"
        },
        "id": "t-Fs8IixLV_7",
        "outputId": "06eeb49f-380a-4563-f784-9be97a0f3d73"
      },
      "execution_count": 18,
      "outputs": [
        {
          "output_type": "stream",
          "name": "stdout",
          "text": [
            "Ключевые слова: тропа, ветерок, лес, деревьев\n",
            "Текст: Рассвет медленно озарял вершины холмов, капли росы блестели на траве.\n"
          ]
        }
      ]
    },
    {
      "cell_type": "markdown",
      "source": [
        "##Результаты и анализ\n",
        "Потеря должна уменьшаться до ~0.001, что указывает на хорошее обучение.\n",
        "Генерация точна, так как мы выбираем готовое предложение из датасета.\n",
        "\n",
        "\n",
        "Мы реализовали условную диффузионную модель для перевода текста из формального стиля в неформальный. Использование sentence-transformers позволило сохранить структуру предложения, а DDPM обеспечил процесс зашумления и расшумления. Этот подход — упрощение реальных диффузионных моделей, но он демонстрирует ключевые идеи. Для более сложных задач можно добавить генеративный декодер или использовать большие модели."
      ],
      "metadata": {
        "id": "Q8i2un-O5MUw"
      }
    }
  ]
}